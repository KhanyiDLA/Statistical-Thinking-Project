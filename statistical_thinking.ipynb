{
 "cells": [
  {
   "cell_type": "markdown",
   "id": "2a3671ce-bd4c-4335-9994-c7ef9f251bee",
   "metadata": {},
   "source": [
    "# Statistical Thinking"
   ]
  },
  {
   "cell_type": "markdown",
   "id": "c6a46520-045b-444f-8e52-e8196f9f6ae9",
   "metadata": {},
   "source": [
    "## Introduction"
   ]
  },
  {
   "cell_type": "markdown",
   "id": "1b71c8aa-8723-4d63-8235-0b4c2a868988",
   "metadata": {},
   "source": [
    "The dataset used in this analysis, involves the Millennium Development Goals which were a set of 8 goals defined in 2015 by United Nations. This was to help improve the living conditions and conditions of the planet. Key indicators for each goal were defined and used to determine if goals were met. In this project, we will look at key indicators for goal 7 to ensure environmental stability. These indicators are carbon dioxide emmisions, protected forests, land and sea areas."
   ]
  },
  {
   "cell_type": "markdown",
   "id": "c4775f30-517e-41e8-a0a2-25e68c3063b4",
   "metadata": {},
   "source": [
    "### Importing and loading the datasets"
   ]
  },
  {
   "cell_type": "code",
   "execution_count": 1,
   "id": "805cb1e6-a48d-499c-abca-ffab887f575e",
   "metadata": {},
   "outputs": [],
   "source": [
    "import pandas as pd\n",
    "import numpy as np\n",
    "import seaborn as sn\n",
    "from matplotlib import pyplot as plt\n",
    "from scipy.stats import pearsonr, spearmanr"
   ]
  },
  {
   "cell_type": "code",
   "execution_count": 2,
   "id": "78976cc4-1f7c-41af-86f8-1edc32be641a",
   "metadata": {
    "scrolled": true
   },
   "outputs": [
    {
     "data": {
      "text/html": [
       "<div>\n",
       "<style scoped>\n",
       "    .dataframe tbody tr th:only-of-type {\n",
       "        vertical-align: middle;\n",
       "    }\n",
       "\n",
       "    .dataframe tbody tr th {\n",
       "        vertical-align: top;\n",
       "    }\n",
       "\n",
       "    .dataframe thead th {\n",
       "        text-align: right;\n",
       "    }\n",
       "</style>\n",
       "<table border=\"1\" class=\"dataframe\">\n",
       "  <thead>\n",
       "    <tr style=\"text-align: right;\">\n",
       "      <th></th>\n",
       "      <th>CountryCode</th>\n",
       "      <th>Country</th>\n",
       "      <th>SeriesCode</th>\n",
       "      <th>MDG</th>\n",
       "      <th>Series</th>\n",
       "      <th>1990</th>\n",
       "      <th>Footnotes</th>\n",
       "      <th>Type</th>\n",
       "      <th>1991</th>\n",
       "      <th>Footnotes.1</th>\n",
       "      <th>...</th>\n",
       "      <th>Type.26</th>\n",
       "      <th>2017</th>\n",
       "      <th>Footnotes.27</th>\n",
       "      <th>Type.27</th>\n",
       "      <th>2018</th>\n",
       "      <th>Footnotes.28</th>\n",
       "      <th>Type.28</th>\n",
       "      <th>2019</th>\n",
       "      <th>Footnotes.29</th>\n",
       "      <th>Type.29</th>\n",
       "    </tr>\n",
       "  </thead>\n",
       "  <tbody>\n",
       "    <tr>\n",
       "      <th>0</th>\n",
       "      <td>4</td>\n",
       "      <td>Afghanistan</td>\n",
       "      <td>567</td>\n",
       "      <td>Y</td>\n",
       "      <td>Proportion of land area covered by forest, per...</td>\n",
       "      <td>2.10</td>\n",
       "      <td>NaN</td>\n",
       "      <td>E</td>\n",
       "      <td>NaN</td>\n",
       "      <td>NaN</td>\n",
       "      <td>...</td>\n",
       "      <td>NaN</td>\n",
       "      <td>NaN</td>\n",
       "      <td>NaN</td>\n",
       "      <td>NaN</td>\n",
       "      <td>NaN</td>\n",
       "      <td>NaN</td>\n",
       "      <td>NaN</td>\n",
       "      <td>NaN</td>\n",
       "      <td>NaN</td>\n",
       "      <td>NaN</td>\n",
       "    </tr>\n",
       "    <tr>\n",
       "      <th>1</th>\n",
       "      <td>4</td>\n",
       "      <td>Afghanistan</td>\n",
       "      <td>749</td>\n",
       "      <td>Y</td>\n",
       "      <td>Carbon dioxide emissions (CO2), thousand metri...</td>\n",
       "      <td>2676.90</td>\n",
       "      <td>NaN</td>\n",
       "      <td>G</td>\n",
       "      <td>2493.6</td>\n",
       "      <td>NaN</td>\n",
       "      <td>...</td>\n",
       "      <td>NaN</td>\n",
       "      <td>NaN</td>\n",
       "      <td>NaN</td>\n",
       "      <td>NaN</td>\n",
       "      <td>NaN</td>\n",
       "      <td>NaN</td>\n",
       "      <td>NaN</td>\n",
       "      <td>NaN</td>\n",
       "      <td>NaN</td>\n",
       "      <td>NaN</td>\n",
       "    </tr>\n",
       "    <tr>\n",
       "      <th>2</th>\n",
       "      <td>4</td>\n",
       "      <td>Afghanistan</td>\n",
       "      <td>616</td>\n",
       "      <td>Y</td>\n",
       "      <td>Terrestrial and marine areas protected to tota...</td>\n",
       "      <td>0.36</td>\n",
       "      <td>NaN</td>\n",
       "      <td>C</td>\n",
       "      <td>NaN</td>\n",
       "      <td>NaN</td>\n",
       "      <td>...</td>\n",
       "      <td>NaN</td>\n",
       "      <td>NaN</td>\n",
       "      <td>NaN</td>\n",
       "      <td>NaN</td>\n",
       "      <td>NaN</td>\n",
       "      <td>NaN</td>\n",
       "      <td>NaN</td>\n",
       "      <td>NaN</td>\n",
       "      <td>NaN</td>\n",
       "      <td>NaN</td>\n",
       "    </tr>\n",
       "    <tr>\n",
       "      <th>3</th>\n",
       "      <td>8</td>\n",
       "      <td>Albania</td>\n",
       "      <td>567</td>\n",
       "      <td>Y</td>\n",
       "      <td>Proportion of land area covered by forest, per...</td>\n",
       "      <td>28.80</td>\n",
       "      <td>NaN</td>\n",
       "      <td>C</td>\n",
       "      <td>NaN</td>\n",
       "      <td>NaN</td>\n",
       "      <td>...</td>\n",
       "      <td>NaN</td>\n",
       "      <td>NaN</td>\n",
       "      <td>NaN</td>\n",
       "      <td>NaN</td>\n",
       "      <td>NaN</td>\n",
       "      <td>NaN</td>\n",
       "      <td>NaN</td>\n",
       "      <td>NaN</td>\n",
       "      <td>NaN</td>\n",
       "      <td>NaN</td>\n",
       "    </tr>\n",
       "    <tr>\n",
       "      <th>4</th>\n",
       "      <td>8</td>\n",
       "      <td>Albania</td>\n",
       "      <td>749</td>\n",
       "      <td>Y</td>\n",
       "      <td>Carbon dioxide emissions (CO2), thousand metri...</td>\n",
       "      <td>7488.00</td>\n",
       "      <td>NaN</td>\n",
       "      <td>G</td>\n",
       "      <td>3971.4</td>\n",
       "      <td>NaN</td>\n",
       "      <td>...</td>\n",
       "      <td>NaN</td>\n",
       "      <td>NaN</td>\n",
       "      <td>NaN</td>\n",
       "      <td>NaN</td>\n",
       "      <td>NaN</td>\n",
       "      <td>NaN</td>\n",
       "      <td>NaN</td>\n",
       "      <td>NaN</td>\n",
       "      <td>NaN</td>\n",
       "      <td>NaN</td>\n",
       "    </tr>\n",
       "  </tbody>\n",
       "</table>\n",
       "<p>5 rows × 95 columns</p>\n",
       "</div>"
      ],
      "text/plain": [
       "   CountryCode      Country  SeriesCode MDG  \\\n",
       "0            4  Afghanistan         567   Y   \n",
       "1            4  Afghanistan         749   Y   \n",
       "2            4  Afghanistan         616   Y   \n",
       "3            8      Albania         567   Y   \n",
       "4            8      Albania         749   Y   \n",
       "\n",
       "                                              Series     1990  Footnotes Type  \\\n",
       "0  Proportion of land area covered by forest, per...     2.10        NaN    E   \n",
       "1  Carbon dioxide emissions (CO2), thousand metri...  2676.90        NaN    G   \n",
       "2  Terrestrial and marine areas protected to tota...     0.36        NaN    C   \n",
       "3  Proportion of land area covered by forest, per...    28.80        NaN    C   \n",
       "4  Carbon dioxide emissions (CO2), thousand metri...  7488.00        NaN    G   \n",
       "\n",
       "     1991  Footnotes.1  ... Type.26  2017  Footnotes.27 Type.27  2018  \\\n",
       "0     NaN          NaN  ...     NaN   NaN           NaN     NaN   NaN   \n",
       "1  2493.6          NaN  ...     NaN   NaN           NaN     NaN   NaN   \n",
       "2     NaN          NaN  ...     NaN   NaN           NaN     NaN   NaN   \n",
       "3     NaN          NaN  ...     NaN   NaN           NaN     NaN   NaN   \n",
       "4  3971.4          NaN  ...     NaN   NaN           NaN     NaN   NaN   \n",
       "\n",
       "   Footnotes.28 Type.28  2019  Footnotes.29 Type.29  \n",
       "0           NaN     NaN   NaN           NaN     NaN  \n",
       "1           NaN     NaN   NaN           NaN     NaN  \n",
       "2           NaN     NaN   NaN           NaN     NaN  \n",
       "3           NaN     NaN   NaN           NaN     NaN  \n",
       "4           NaN     NaN   NaN           NaN     NaN  \n",
       "\n",
       "[5 rows x 95 columns]"
      ]
     },
     "execution_count": 2,
     "metadata": {},
     "output_type": "execute_result"
    }
   ],
   "source": [
    "statistical_df = pd.read_csv(\"..\\data\\MDG_Export_20191227.csv\", sep=',', skipinitialspace=True)\n",
    "statistical_df.head()"
   ]
  },
  {
   "cell_type": "code",
   "execution_count": 3,
   "id": "4fc71a65-99a6-4626-8825-28bb0215757e",
   "metadata": {},
   "outputs": [
    {
     "name": "stdout",
     "output_type": "stream",
     "text": [
      "<class 'pandas.core.frame.DataFrame'>\n",
      "RangeIndex: 690 entries, 0 to 689\n",
      "Data columns (total 95 columns):\n",
      " #   Column        Non-Null Count  Dtype  \n",
      "---  ------        --------------  -----  \n",
      " 0   CountryCode   690 non-null    int64  \n",
      " 1   Country       690 non-null    object \n",
      " 2   SeriesCode    690 non-null    int64  \n",
      " 3   MDG           690 non-null    object \n",
      " 4   Series        690 non-null    object \n",
      " 5   1990          627 non-null    float64\n",
      " 6   Footnotes     5 non-null      float64\n",
      " 7   Type          628 non-null    object \n",
      " 8   1991          182 non-null    float64\n",
      " 9   Footnotes.1   0 non-null      float64\n",
      " 10  Type.1        182 non-null    object \n",
      " 11  1992          204 non-null    float64\n",
      " 12  Footnotes.2   0 non-null      float64\n",
      " 13  Type.2        204 non-null    object \n",
      " 14  1993          204 non-null    float64\n",
      " 15  Footnotes.3   0 non-null      float64\n",
      " 16  Type.3        204 non-null    object \n",
      " 17  1994          205 non-null    float64\n",
      " 18  Footnotes.4   0 non-null      float64\n",
      " 19  Type.4        205 non-null    object \n",
      " 20  1995          207 non-null    float64\n",
      " 21  Footnotes.5   0 non-null      float64\n",
      " 22  Type.5        207 non-null    object \n",
      " 23  1996          206 non-null    float64\n",
      " 24  Footnotes.6   0 non-null      float64\n",
      " 25  Type.6        206 non-null    object \n",
      " 26  1997          209 non-null    float64\n",
      " 27  Footnotes.7   0 non-null      float64\n",
      " 28  Type.7        209 non-null    object \n",
      " 29  1998          209 non-null    float64\n",
      " 30  Footnotes.8   0 non-null      float64\n",
      " 31  Type.8        209 non-null    object \n",
      " 32  1999          209 non-null    float64\n",
      " 33  Footnotes.9   0 non-null      float64\n",
      " 34  Type.9        209 non-null    object \n",
      " 35  2000          656 non-null    float64\n",
      " 36  Footnotes.10  5 non-null      float64\n",
      " 37  Type.10       657 non-null    object \n",
      " 38  2001          211 non-null    float64\n",
      " 39  Footnotes.11  0 non-null      float64\n",
      " 40  Type.11       211 non-null    object \n",
      " 41  2002          212 non-null    float64\n",
      " 42  Footnotes.12  0 non-null      float64\n",
      " 43  Type.12       212 non-null    object \n",
      " 44  2003          212 non-null    float64\n",
      " 45  Footnotes.13  0 non-null      float64\n",
      " 46  Type.13       212 non-null    object \n",
      " 47  2004          212 non-null    float64\n",
      " 48  Footnotes.14  0 non-null      float64\n",
      " 49  Type.14       212 non-null    object \n",
      " 50  2005          436 non-null    float64\n",
      " 51  Footnotes.15  5 non-null      float64\n",
      " 52  Type.15       437 non-null    object \n",
      " 53  2006          214 non-null    float64\n",
      " 54  Footnotes.16  0 non-null      float64\n",
      " 55  Type.16       214 non-null    object \n",
      " 56  2007          215 non-null    float64\n",
      " 57  Footnotes.17  0 non-null      float64\n",
      " 58  Type.17       215 non-null    object \n",
      " 59  2008          215 non-null    float64\n",
      " 60  Footnotes.18  0 non-null      float64\n",
      " 61  Type.18       215 non-null    object \n",
      " 62  2009          215 non-null    float64\n",
      " 63  Footnotes.19  0 non-null      float64\n",
      " 64  Type.19       215 non-null    object \n",
      " 65  2010          438 non-null    float64\n",
      " 66  Footnotes.20  5 non-null      float64\n",
      " 67  Type.20       439 non-null    object \n",
      " 68  2011          215 non-null    float64\n",
      " 69  Footnotes.21  0 non-null      float64\n",
      " 70  Type.21       215 non-null    object \n",
      " 71  2012          0 non-null      float64\n",
      " 72  Footnotes.22  0 non-null      float64\n",
      " 73  Type.22       0 non-null      float64\n",
      " 74  2013          0 non-null      float64\n",
      " 75  Footnotes.23  0 non-null      float64\n",
      " 76  Type.23       0 non-null      float64\n",
      " 77  2014          223 non-null    float64\n",
      " 78  Footnotes.24  0 non-null      float64\n",
      " 79  Type.24       223 non-null    object \n",
      " 80  2015          0 non-null      float64\n",
      " 81  Footnotes.25  0 non-null      float64\n",
      " 82  Type.25       0 non-null      float64\n",
      " 83  2016          0 non-null      float64\n",
      " 84  Footnotes.26  0 non-null      float64\n",
      " 85  Type.26       0 non-null      float64\n",
      " 86  2017          0 non-null      float64\n",
      " 87  Footnotes.27  0 non-null      float64\n",
      " 88  Type.27       0 non-null      float64\n",
      " 89  2018          0 non-null      float64\n",
      " 90  Footnotes.28  0 non-null      float64\n",
      " 91  Type.28       0 non-null      float64\n",
      " 92  2019          0 non-null      float64\n",
      " 93  Footnotes.29  0 non-null      float64\n",
      " 94  Type.29       0 non-null      float64\n",
      "dtypes: float64(67), int64(2), object(26)\n",
      "memory usage: 512.2+ KB\n"
     ]
    }
   ],
   "source": [
    "statistical_df.info()"
   ]
  },
  {
   "cell_type": "markdown",
   "id": "1c65e0ed-0a38-435a-91c9-5a0027b86158",
   "metadata": {},
   "source": [
    "When looking closely at the dataset, this is a time series data whereby the CO2 emissions, land/marine areas protected, and land covered by forest are measured over time. Also, these factors are measured for each country making up the entries to be 690 since there are 230 countries considered in this analysis. There are also footnotes and type columns which have the most null values."
   ]
  },
  {
   "cell_type": "markdown",
   "id": "1687c769-9340-4e62-860c-e9eac1ad992b",
   "metadata": {},
   "source": [
    "&nbsp;"
   ]
  },
  {
   "cell_type": "markdown",
   "id": "69577435-7ae2-4f44-a3ba-f2797c6e049b",
   "metadata": {},
   "source": [
    "### Number of different countries represented in the dataset"
   ]
  },
  {
   "cell_type": "code",
   "execution_count": 4,
   "id": "13ce75cf-1fdd-4834-8584-a6e6375d7fe3",
   "metadata": {},
   "outputs": [
    {
     "name": "stdout",
     "output_type": "stream",
     "text": [
      "230\n"
     ]
    }
   ],
   "source": [
    "number_of_countries = statistical_df[\"Country\"].nunique()\n",
    "print(number_of_countries)"
   ]
  },
  {
   "cell_type": "markdown",
   "id": "04b414ce-2598-4131-ba4c-673bd740ca1a",
   "metadata": {},
   "source": [
    "&nbsp;"
   ]
  },
  {
   "cell_type": "markdown",
   "id": "165c229b-b564-4db5-b16c-16419c945f89",
   "metadata": {},
   "source": [
    "### Displaying the missing values by country, series and year"
   ]
  },
  {
   "cell_type": "markdown",
   "id": "4202dab6-6d64-4e70-b349-c3719dd07f4a",
   "metadata": {},
   "source": [
    "A sum of missing values is calculated for each country."
   ]
  },
  {
   "cell_type": "code",
   "execution_count": 5,
   "id": "d74b228a-19b7-4c22-8ed6-14ca0b7b9639",
   "metadata": {},
   "outputs": [
    {
     "data": {
      "text/html": [
       "<div>\n",
       "<style scoped>\n",
       "    .dataframe tbody tr th:only-of-type {\n",
       "        vertical-align: middle;\n",
       "    }\n",
       "\n",
       "    .dataframe tbody tr th {\n",
       "        vertical-align: top;\n",
       "    }\n",
       "\n",
       "    .dataframe thead th {\n",
       "        text-align: right;\n",
       "    }\n",
       "</style>\n",
       "<table border=\"1\" class=\"dataframe\">\n",
       "  <thead>\n",
       "    <tr style=\"text-align: right;\">\n",
       "      <th></th>\n",
       "      <th>Country</th>\n",
       "      <th>missing_values_count</th>\n",
       "    </tr>\n",
       "  </thead>\n",
       "  <tbody>\n",
       "    <tr>\n",
       "      <th>0</th>\n",
       "      <td>Afghanistan</td>\n",
       "      <td>212</td>\n",
       "    </tr>\n",
       "    <tr>\n",
       "      <th>1</th>\n",
       "      <td>Albania</td>\n",
       "      <td>212</td>\n",
       "    </tr>\n",
       "    <tr>\n",
       "      <th>2</th>\n",
       "      <td>Algeria</td>\n",
       "      <td>212</td>\n",
       "    </tr>\n",
       "    <tr>\n",
       "      <th>3</th>\n",
       "      <td>American Samoa</td>\n",
       "      <td>256</td>\n",
       "    </tr>\n",
       "    <tr>\n",
       "      <th>4</th>\n",
       "      <td>Andorra</td>\n",
       "      <td>222</td>\n",
       "    </tr>\n",
       "  </tbody>\n",
       "</table>\n",
       "</div>"
      ],
      "text/plain": [
       "          Country  missing_values_count\n",
       "0     Afghanistan                   212\n",
       "1         Albania                   212\n",
       "2         Algeria                   212\n",
       "3  American Samoa                   256\n",
       "4         Andorra                   222"
      ]
     },
     "execution_count": 5,
     "metadata": {},
     "output_type": "execute_result"
    }
   ],
   "source": [
    "missing_values_by_country_df = statistical_df.groupby(\"Country\").apply(lambda country : country.isnull().sum().sum()).reset_index(name='missing_values_count')\n",
    "missing_values_by_country_df.head()"
   ]
  },
  {
   "cell_type": "markdown",
   "id": "5485d771-ed9a-4b25-bce9-e27d997aa316",
   "metadata": {},
   "source": [
    "&nbsp;"
   ]
  },
  {
   "cell_type": "markdown",
   "id": "41c4b237-bbbd-4c2c-bf6a-d99fc0c35803",
   "metadata": {},
   "source": [
    "The total number of missing values for each year is calculated."
   ]
  },
  {
   "cell_type": "code",
   "execution_count": 6,
   "id": "dcb13e59-fcaf-4dc4-ad52-578082c93e9b",
   "metadata": {},
   "outputs": [
    {
     "data": {
      "text/html": [
       "<div>\n",
       "<style scoped>\n",
       "    .dataframe tbody tr th:only-of-type {\n",
       "        vertical-align: middle;\n",
       "    }\n",
       "\n",
       "    .dataframe tbody tr th {\n",
       "        vertical-align: top;\n",
       "    }\n",
       "\n",
       "    .dataframe thead th {\n",
       "        text-align: right;\n",
       "    }\n",
       "</style>\n",
       "<table border=\"1\" class=\"dataframe\">\n",
       "  <thead>\n",
       "    <tr style=\"text-align: right;\">\n",
       "      <th></th>\n",
       "      <th>Year</th>\n",
       "      <th>missing_values_count</th>\n",
       "    </tr>\n",
       "  </thead>\n",
       "  <tbody>\n",
       "    <tr>\n",
       "      <th>0</th>\n",
       "      <td>1990</td>\n",
       "      <td>63</td>\n",
       "    </tr>\n",
       "    <tr>\n",
       "      <th>1</th>\n",
       "      <td>1991</td>\n",
       "      <td>508</td>\n",
       "    </tr>\n",
       "    <tr>\n",
       "      <th>2</th>\n",
       "      <td>1992</td>\n",
       "      <td>486</td>\n",
       "    </tr>\n",
       "    <tr>\n",
       "      <th>3</th>\n",
       "      <td>1993</td>\n",
       "      <td>486</td>\n",
       "    </tr>\n",
       "    <tr>\n",
       "      <th>4</th>\n",
       "      <td>1994</td>\n",
       "      <td>485</td>\n",
       "    </tr>\n",
       "  </tbody>\n",
       "</table>\n",
       "</div>"
      ],
      "text/plain": [
       "   Year  missing_values_count\n",
       "0  1990                    63\n",
       "1  1991                   508\n",
       "2  1992                   486\n",
       "3  1993                   486\n",
       "4  1994                   485"
      ]
     },
     "execution_count": 6,
     "metadata": {},
     "output_type": "execute_result"
    }
   ],
   "source": [
    "year_columns = [column for column in statistical_df.columns if column.isdigit()]\n",
    "\n",
    "missing_year_data = []\n",
    "for year in year_columns:\n",
    "    missing_count = statistical_df[year].isnull().sum()\n",
    "    missing_year_data.append({\"Year\": year, \"missing_values_count\": missing_count})\n",
    "missing_values_by_year_df = pd.DataFrame(missing_year_data)\n",
    "missing_values_by_year_df.head()"
   ]
  },
  {
   "cell_type": "markdown",
   "id": "f6cc516c-c47e-44a1-95e0-07e5f917c431",
   "metadata": {},
   "source": [
    "&nbsp;"
   ]
  },
  {
   "cell_type": "markdown",
   "id": "907d0e12-4288-4457-bb6e-c0d8912de211",
   "metadata": {},
   "source": [
    "The number of missing values for each group in the series column is calculated."
   ]
  },
  {
   "cell_type": "code",
   "execution_count": 7,
   "id": "1c0f7eb3-3c83-42c4-bbf8-20c584ea8bfc",
   "metadata": {},
   "outputs": [
    {
     "data": {
      "text/html": [
       "<div>\n",
       "<style scoped>\n",
       "    .dataframe tbody tr th:only-of-type {\n",
       "        vertical-align: middle;\n",
       "    }\n",
       "\n",
       "    .dataframe tbody tr th {\n",
       "        vertical-align: top;\n",
       "    }\n",
       "\n",
       "    .dataframe thead th {\n",
       "        text-align: right;\n",
       "    }\n",
       "</style>\n",
       "<table border=\"1\" class=\"dataframe\">\n",
       "  <thead>\n",
       "    <tr style=\"text-align: right;\">\n",
       "      <th></th>\n",
       "      <th>Series</th>\n",
       "      <th>missing_values_count</th>\n",
       "    </tr>\n",
       "  </thead>\n",
       "  <tbody>\n",
       "    <tr>\n",
       "      <th>0</th>\n",
       "      <td>Carbon dioxide emissions (CO2), thousand metri...</td>\n",
       "      <td>11550</td>\n",
       "    </tr>\n",
       "    <tr>\n",
       "      <th>1</th>\n",
       "      <td>Proportion of land area covered by forest, per...</td>\n",
       "      <td>18892</td>\n",
       "    </tr>\n",
       "    <tr>\n",
       "      <th>2</th>\n",
       "      <td>Terrestrial and marine areas protected to tota...</td>\n",
       "      <td>19362</td>\n",
       "    </tr>\n",
       "  </tbody>\n",
       "</table>\n",
       "</div>"
      ],
      "text/plain": [
       "                                              Series  missing_values_count\n",
       "0  Carbon dioxide emissions (CO2), thousand metri...                 11550\n",
       "1  Proportion of land area covered by forest, per...                 18892\n",
       "2  Terrestrial and marine areas protected to tota...                 19362"
      ]
     },
     "execution_count": 7,
     "metadata": {},
     "output_type": "execute_result"
    }
   ],
   "source": [
    "missing_values_by_series_df = statistical_df.groupby(\"Series\").apply(lambda series : series.isnull().sum().sum()).reset_index(name='missing_values_count')\n",
    "missing_values_by_series_df.head()"
   ]
  },
  {
   "cell_type": "markdown",
   "id": "3fb59804-b56d-425d-b806-4310c4398696",
   "metadata": {},
   "source": [
    "&nbsp;"
   ]
  },
  {
   "cell_type": "markdown",
   "id": "5aee2411-41bd-41ed-8e2a-c6980dc163ee",
   "metadata": {},
   "source": [
    "## Checking and correcting any problems in the data"
   ]
  },
  {
   "cell_type": "markdown",
   "id": "7d6727c1-b3f5-4d47-b3dc-22f6c983fa38",
   "metadata": {},
   "source": [
    "The dataset is checked if there are any missing values or duplicated entries to improve the quality of the analysis and insights to be derived."
   ]
  },
  {
   "cell_type": "code",
   "execution_count": 8,
   "id": "46391dd5-0c0c-4c9b-ad7d-c1891e24e537",
   "metadata": {},
   "outputs": [
    {
     "data": {
      "text/plain": [
       "49804"
      ]
     },
     "execution_count": 8,
     "metadata": {},
     "output_type": "execute_result"
    }
   ],
   "source": [
    "statistical_df.isnull().sum().sum()"
   ]
  },
  {
   "cell_type": "code",
   "execution_count": 9,
   "id": "0e15fae8-95bc-4750-926b-84382e7d56e1",
   "metadata": {},
   "outputs": [
    {
     "data": {
      "text/plain": [
       "0"
      ]
     },
     "execution_count": 9,
     "metadata": {},
     "output_type": "execute_result"
    }
   ],
   "source": [
    "statistical_df.duplicated().sum()"
   ]
  },
  {
   "cell_type": "markdown",
   "id": "70ead5dc-fd94-4a5f-90e5-f08213f92b97",
   "metadata": {},
   "source": [
    "There is 49804 total missing values and there are no duplicates in the dataset."
   ]
  },
  {
   "cell_type": "markdown",
   "id": "2750bfb9-38f8-4aba-b57e-d5b7a0cd42a8",
   "metadata": {},
   "source": [
    "&nbsp;"
   ]
  },
  {
   "cell_type": "markdown",
   "id": "96cd3175-3251-4dfa-a581-93d886a4fcbb",
   "metadata": {},
   "source": [
    "The footnotes and type columns will be removed since they will not be used in the analysis and they have a lot of missing values. Also, the columns that have 0 non-null values will be removed."
   ]
  },
  {
   "cell_type": "code",
   "execution_count": 10,
   "id": "e2ce57e4-4e9e-4439-9c62-ec6c24e7e26d",
   "metadata": {},
   "outputs": [],
   "source": [
    "statistical_df_cleaned = statistical_df.drop(columns=[column for  column in statistical_df.columns if column.startswith(('Footnotes', 'Type'))])"
   ]
  },
  {
   "cell_type": "code",
   "execution_count": 11,
   "id": "ea18f8ae-d967-4aca-b5ae-3ddb282e3cda",
   "metadata": {},
   "outputs": [],
   "source": [
    "for column in statistical_df_cleaned.columns:\n",
    "    if not column.isdigit():\n",
    "        continue\n",
    "    if statistical_df_cleaned[column].isnull().all():\n",
    "        statistical_df_cleaned.drop(columns=[column], inplace= True)"
   ]
  },
  {
   "cell_type": "code",
   "execution_count": 12,
   "id": "75061b88-5e6e-4248-b11b-f93b7944e780",
   "metadata": {},
   "outputs": [
    {
     "name": "stdout",
     "output_type": "stream",
     "text": [
      "<class 'pandas.core.frame.DataFrame'>\n",
      "RangeIndex: 690 entries, 0 to 689\n",
      "Data columns (total 28 columns):\n",
      " #   Column       Non-Null Count  Dtype  \n",
      "---  ------       --------------  -----  \n",
      " 0   CountryCode  690 non-null    int64  \n",
      " 1   Country      690 non-null    object \n",
      " 2   SeriesCode   690 non-null    int64  \n",
      " 3   MDG          690 non-null    object \n",
      " 4   Series       690 non-null    object \n",
      " 5   1990         627 non-null    float64\n",
      " 6   1991         182 non-null    float64\n",
      " 7   1992         204 non-null    float64\n",
      " 8   1993         204 non-null    float64\n",
      " 9   1994         205 non-null    float64\n",
      " 10  1995         207 non-null    float64\n",
      " 11  1996         206 non-null    float64\n",
      " 12  1997         209 non-null    float64\n",
      " 13  1998         209 non-null    float64\n",
      " 14  1999         209 non-null    float64\n",
      " 15  2000         656 non-null    float64\n",
      " 16  2001         211 non-null    float64\n",
      " 17  2002         212 non-null    float64\n",
      " 18  2003         212 non-null    float64\n",
      " 19  2004         212 non-null    float64\n",
      " 20  2005         436 non-null    float64\n",
      " 21  2006         214 non-null    float64\n",
      " 22  2007         215 non-null    float64\n",
      " 23  2008         215 non-null    float64\n",
      " 24  2009         215 non-null    float64\n",
      " 25  2010         438 non-null    float64\n",
      " 26  2011         215 non-null    float64\n",
      " 27  2014         223 non-null    float64\n",
      "dtypes: float64(23), int64(2), object(3)\n",
      "memory usage: 151.1+ KB\n"
     ]
    }
   ],
   "source": [
    "statistical_df_cleaned.info()"
   ]
  },
  {
   "cell_type": "markdown",
   "id": "d38f34fa-a38a-4847-bd02-9a399437c012",
   "metadata": {},
   "source": [
    "The columns that will not be used had been removed and any other issues in the dataset will also be checked."
   ]
  },
  {
   "cell_type": "markdown",
   "id": "8545c4e7-0d1b-4fc4-936a-d64e81b9b4bf",
   "metadata": {},
   "source": [
    "&nbsp;"
   ]
  },
  {
   "cell_type": "markdown",
   "id": "2f0bf4f5-77ff-4610-9fdb-247c44d131f4",
   "metadata": {},
   "source": [
    "Checking if there are any negative values in the dataframe."
   ]
  },
  {
   "cell_type": "code",
   "execution_count": 13,
   "id": "1794927c-f994-4f4c-89df-8e79b58f87fc",
   "metadata": {},
   "outputs": [
    {
     "name": "stdout",
     "output_type": "stream",
     "text": [
      "       1990\n",
      "679 -2999.6\n"
     ]
    }
   ],
   "source": [
    "numerical_columns = statistical_df_cleaned.columns[5:]\n",
    "negative_values = statistical_df_cleaned[statistical_df_cleaned[numerical_columns] < 0]\n",
    "cleaned_negative_values = negative_values.dropna(how='all').dropna(axis=1, how='all')\n",
    "print(cleaned_negative_values)"
   ]
  },
  {
   "cell_type": "markdown",
   "id": "23ef1250-0170-4524-9099-3a8dfe18ce02",
   "metadata": {},
   "source": [
    "There is a negative value for the index 679 at the column 1990. The abs function will be applied to this value to convert it to a positive number. This is because, the measurement of the factors in the series should not be negative and the value can also not be replaced with 0, as it is highly unlikely for these factors to be measured at exactly 0."
   ]
  },
  {
   "cell_type": "code",
   "execution_count": 14,
   "id": "06401e32-f50d-48f5-af41-70cd9aa2431f",
   "metadata": {},
   "outputs": [
    {
     "data": {
      "text/html": [
       "<div>\n",
       "<style scoped>\n",
       "    .dataframe tbody tr th:only-of-type {\n",
       "        vertical-align: middle;\n",
       "    }\n",
       "\n",
       "    .dataframe tbody tr th {\n",
       "        vertical-align: top;\n",
       "    }\n",
       "\n",
       "    .dataframe thead th {\n",
       "        text-align: right;\n",
       "    }\n",
       "</style>\n",
       "<table border=\"1\" class=\"dataframe\">\n",
       "  <thead>\n",
       "    <tr style=\"text-align: right;\">\n",
       "      <th></th>\n",
       "      <th>CountryCode</th>\n",
       "      <th>Country</th>\n",
       "      <th>SeriesCode</th>\n",
       "      <th>MDG</th>\n",
       "      <th>Series</th>\n",
       "      <th>1990</th>\n",
       "      <th>1991</th>\n",
       "      <th>1992</th>\n",
       "      <th>1993</th>\n",
       "      <th>1994</th>\n",
       "      <th>...</th>\n",
       "      <th>2003</th>\n",
       "      <th>2004</th>\n",
       "      <th>2005</th>\n",
       "      <th>2006</th>\n",
       "      <th>2007</th>\n",
       "      <th>2008</th>\n",
       "      <th>2009</th>\n",
       "      <th>2010</th>\n",
       "      <th>2011</th>\n",
       "      <th>2014</th>\n",
       "    </tr>\n",
       "  </thead>\n",
       "  <tbody>\n",
       "  </tbody>\n",
       "</table>\n",
       "<p>0 rows × 28 columns</p>\n",
       "</div>"
      ],
      "text/plain": [
       "Empty DataFrame\n",
       "Columns: [CountryCode, Country, SeriesCode, MDG, Series, 1990, 1991, 1992, 1993, 1994, 1995, 1996, 1997, 1998, 1999, 2000, 2001, 2002, 2003, 2004, 2005, 2006, 2007, 2008, 2009, 2010, 2011, 2014]\n",
       "Index: []\n",
       "\n",
       "[0 rows x 28 columns]"
      ]
     },
     "execution_count": 14,
     "metadata": {},
     "output_type": "execute_result"
    }
   ],
   "source": [
    "statistical_df_cleaned['1990'] = statistical_df_cleaned['1990'].apply(lambda x: abs(x) if x < 0 else x)\n",
    "statistical_df_cleaned[statistical_df_cleaned[\"1990\"] < 0]"
   ]
  },
  {
   "cell_type": "markdown",
   "id": "a856ce54-d46c-4887-8eb6-b7a3c572bf98",
   "metadata": {},
   "source": [
    "&nbsp;"
   ]
  },
  {
   "cell_type": "markdown",
   "id": "2fd5137a-b14d-46ee-a329-6dc93d5ec1e9",
   "metadata": {},
   "source": [
    "Filling in the missing values in the dataframe using the combination of interpolate, forward, and backward fill functions for each row. This is time series data and applying these fills is more appropriate in this case as they can fill the values based on the previous or next year's values by series for each country."
   ]
  },
  {
   "cell_type": "code",
   "execution_count": 15,
   "id": "5c1aeaf3-bc8b-408b-a6e4-de8abb27ed36",
   "metadata": {},
   "outputs": [
    {
     "name": "stdout",
     "output_type": "stream",
     "text": [
      "<class 'pandas.core.frame.DataFrame'>\n",
      "RangeIndex: 690 entries, 0 to 689\n",
      "Data columns (total 28 columns):\n",
      " #   Column       Non-Null Count  Dtype  \n",
      "---  ------       --------------  -----  \n",
      " 0   CountryCode  690 non-null    int64  \n",
      " 1   Country      690 non-null    object \n",
      " 2   SeriesCode   690 non-null    int64  \n",
      " 3   MDG          690 non-null    object \n",
      " 4   Series       690 non-null    object \n",
      " 5   1990         690 non-null    float64\n",
      " 6   1991         690 non-null    float64\n",
      " 7   1992         690 non-null    float64\n",
      " 8   1993         690 non-null    float64\n",
      " 9   1994         690 non-null    float64\n",
      " 10  1995         690 non-null    float64\n",
      " 11  1996         690 non-null    float64\n",
      " 12  1997         690 non-null    float64\n",
      " 13  1998         690 non-null    float64\n",
      " 14  1999         690 non-null    float64\n",
      " 15  2000         690 non-null    float64\n",
      " 16  2001         690 non-null    float64\n",
      " 17  2002         690 non-null    float64\n",
      " 18  2003         690 non-null    float64\n",
      " 19  2004         690 non-null    float64\n",
      " 20  2005         690 non-null    float64\n",
      " 21  2006         690 non-null    float64\n",
      " 22  2007         690 non-null    float64\n",
      " 23  2008         690 non-null    float64\n",
      " 24  2009         690 non-null    float64\n",
      " 25  2010         690 non-null    float64\n",
      " 26  2011         690 non-null    float64\n",
      " 27  2014         690 non-null    float64\n",
      "dtypes: float64(23), int64(2), object(3)\n",
      "memory usage: 151.1+ KB\n"
     ]
    }
   ],
   "source": [
    "mdg_df = statistical_df_cleaned.copy()\n",
    "grouped_data = mdg_df.groupby(['Series'], group_keys=False)\n",
    "mdg_df = grouped_data.apply(lambda group: group.interpolate(method='linear'))\n",
    "mdg_df = mdg_df.bfill().ffill()\n",
    "mdg_df.reset_index(drop=True, inplace=True)\n",
    "mdg_df.info()"
   ]
  },
  {
   "cell_type": "markdown",
   "id": "ab67a818-d895-4d53-b350-baa3741c7cff",
   "metadata": {},
   "source": [
    "&nbsp;"
   ]
  },
  {
   "cell_type": "code",
   "execution_count": 16,
   "id": "eaddd1db-037d-4277-b050-e0d22bcb6b3e",
   "metadata": {},
   "outputs": [
    {
     "data": {
      "text/plain": [
       "0"
      ]
     },
     "execution_count": 16,
     "metadata": {},
     "output_type": "execute_result"
    }
   ],
   "source": [
    "mdg_df.isnull().sum().sum()"
   ]
  },
  {
   "cell_type": "markdown",
   "id": "acc08375-1da7-48ca-9461-741c6dfffd8c",
   "metadata": {},
   "source": [
    "There are now no missing values in the mdg_df dataframe."
   ]
  },
  {
   "cell_type": "markdown",
   "id": "26858911-db8f-43af-ae64-3fb571d5d44f",
   "metadata": {},
   "source": [
    "## Exploratory Data Analysis"
   ]
  },
  {
   "cell_type": "markdown",
   "id": "23741b4b-5c00-42be-8f45-cbace9442bf9",
   "metadata": {},
   "source": [
    "Displaying the bottom and top countries in terms of their CO2 emissions for 1990."
   ]
  },
  {
   "cell_type": "code",
   "execution_count": 17,
   "id": "0c4bfeae-59b6-494d-87bc-9b2d2b082fff",
   "metadata": {},
   "outputs": [
    {
     "data": {
      "text/html": [
       "<div>\n",
       "<style scoped>\n",
       "    .dataframe tbody tr th:only-of-type {\n",
       "        vertical-align: middle;\n",
       "    }\n",
       "\n",
       "    .dataframe tbody tr th {\n",
       "        vertical-align: top;\n",
       "    }\n",
       "\n",
       "    .dataframe thead th {\n",
       "        text-align: right;\n",
       "    }\n",
       "</style>\n",
       "<table border=\"1\" class=\"dataframe\">\n",
       "  <thead>\n",
       "    <tr style=\"text-align: right;\">\n",
       "      <th></th>\n",
       "      <th>Country</th>\n",
       "      <th>co2_emissions</th>\n",
       "    </tr>\n",
       "  </thead>\n",
       "  <tbody>\n",
       "    <tr>\n",
       "      <th>0</th>\n",
       "      <td>United States</td>\n",
       "      <td>4823557.10</td>\n",
       "    </tr>\n",
       "    <tr>\n",
       "      <th>1</th>\n",
       "      <td>China</td>\n",
       "      <td>2460744.00</td>\n",
       "    </tr>\n",
       "    <tr>\n",
       "      <th>2</th>\n",
       "      <td>United States Virgin Islands</td>\n",
       "      <td>2413775.25</td>\n",
       "    </tr>\n",
       "    <tr>\n",
       "      <th>3</th>\n",
       "      <td>Japan</td>\n",
       "      <td>1094287.80</td>\n",
       "    </tr>\n",
       "    <tr>\n",
       "      <th>4</th>\n",
       "      <td>India</td>\n",
       "      <td>690576.80</td>\n",
       "    </tr>\n",
       "  </tbody>\n",
       "</table>\n",
       "</div>"
      ],
      "text/plain": [
       "                        Country  co2_emissions\n",
       "0                 United States     4823557.10\n",
       "1                         China     2460744.00\n",
       "2  United States Virgin Islands     2413775.25\n",
       "3                         Japan     1094287.80\n",
       "4                         India      690576.80"
      ]
     },
     "execution_count": 17,
     "metadata": {},
     "output_type": "execute_result"
    }
   ],
   "source": [
    "countries_co2_emissions_1990_df = mdg_df[mdg_df[\"Series\"] == 'Carbon dioxide emissions (CO2), thousand metric tons of CO2 (CDIAC)']\n",
    "\n",
    "top_countries_co2_emissions_1990_df = countries_co2_emissions_1990_df.sort_values(by=\"1990\", ascending=False)\n",
    "top_countries_co2_emissions_1990_df = top_countries_co2_emissions_1990_df.head(5)[['Country', '1990']].rename(columns={'1990': 'co2_emissions'})\n",
    "top_countries_co2_emissions_1990_df.reset_index(drop=True, inplace=True)\n",
    "top_countries_co2_emissions_1990_df.head()"
   ]
  },
  {
   "cell_type": "code",
   "execution_count": 18,
   "id": "8a20bb8c-c9fd-4872-ba48-a5d7c5c78191",
   "metadata": {},
   "outputs": [
    {
     "data": {
      "text/html": [
       "<div>\n",
       "<style scoped>\n",
       "    .dataframe tbody tr th:only-of-type {\n",
       "        vertical-align: middle;\n",
       "    }\n",
       "\n",
       "    .dataframe tbody tr th {\n",
       "        vertical-align: top;\n",
       "    }\n",
       "\n",
       "    .dataframe thead th {\n",
       "        text-align: right;\n",
       "    }\n",
       "</style>\n",
       "<table border=\"1\" class=\"dataframe\">\n",
       "  <thead>\n",
       "    <tr style=\"text-align: right;\">\n",
       "      <th></th>\n",
       "      <th>Country</th>\n",
       "      <th>co2_emissions</th>\n",
       "    </tr>\n",
       "  </thead>\n",
       "  <tbody>\n",
       "    <tr>\n",
       "      <th>0</th>\n",
       "      <td>Niue</td>\n",
       "      <td>3.7</td>\n",
       "    </tr>\n",
       "    <tr>\n",
       "      <th>1</th>\n",
       "      <td>Saint Helena</td>\n",
       "      <td>7.3</td>\n",
       "    </tr>\n",
       "    <tr>\n",
       "      <th>2</th>\n",
       "      <td>Somalia</td>\n",
       "      <td>18.3</td>\n",
       "    </tr>\n",
       "    <tr>\n",
       "      <th>3</th>\n",
       "      <td>Kiribati</td>\n",
       "      <td>22.0</td>\n",
       "    </tr>\n",
       "    <tr>\n",
       "      <th>4</th>\n",
       "      <td>Cook Islands</td>\n",
       "      <td>22.0</td>\n",
       "    </tr>\n",
       "  </tbody>\n",
       "</table>\n",
       "</div>"
      ],
      "text/plain": [
       "        Country  co2_emissions\n",
       "0          Niue            3.7\n",
       "1  Saint Helena            7.3\n",
       "2       Somalia           18.3\n",
       "3      Kiribati           22.0\n",
       "4  Cook Islands           22.0"
      ]
     },
     "execution_count": 18,
     "metadata": {},
     "output_type": "execute_result"
    }
   ],
   "source": [
    "bottom_countries_co2_emmissions_1990_df = countries_co2_emissions_1990_df.sort_values(by=\"1990\", ascending=True)\n",
    "bottom_countries_co2_emmissions_1990_df = bottom_countries_co2_emmissions_1990_df.head(5)[['Country', '1990']].rename(columns={'1990': 'co2_emissions'})\n",
    "bottom_countries_co2_emmissions_1990_df.reset_index(drop=True, inplace=True)\n",
    "bottom_countries_co2_emmissions_1990_df.head()"
   ]
  },
  {
   "cell_type": "markdown",
   "id": "aa31cf06-8b5e-468b-bb97-aaba688b8b23",
   "metadata": {},
   "source": [
    "Displaying the bottom and top countries in terms of their CO2 emissions for 2011."
   ]
  },
  {
   "cell_type": "code",
   "execution_count": 19,
   "id": "b3fffea0-b4cc-4f6a-a5ce-0cf4e3ee2de7",
   "metadata": {},
   "outputs": [
    {
     "data": {
      "text/html": [
       "<div>\n",
       "<style scoped>\n",
       "    .dataframe tbody tr th:only-of-type {\n",
       "        vertical-align: middle;\n",
       "    }\n",
       "\n",
       "    .dataframe tbody tr th {\n",
       "        vertical-align: top;\n",
       "    }\n",
       "\n",
       "    .dataframe thead th {\n",
       "        text-align: right;\n",
       "    }\n",
       "</style>\n",
       "<table border=\"1\" class=\"dataframe\">\n",
       "  <thead>\n",
       "    <tr style=\"text-align: right;\">\n",
       "      <th></th>\n",
       "      <th>Country</th>\n",
       "      <th>co2_emissions</th>\n",
       "    </tr>\n",
       "  </thead>\n",
       "  <tbody>\n",
       "    <tr>\n",
       "      <th>0</th>\n",
       "      <td>China</td>\n",
       "      <td>9019518.2</td>\n",
       "    </tr>\n",
       "    <tr>\n",
       "      <th>1</th>\n",
       "      <td>United States</td>\n",
       "      <td>5305569.6</td>\n",
       "    </tr>\n",
       "    <tr>\n",
       "      <th>2</th>\n",
       "      <td>United States Virgin Islands</td>\n",
       "      <td>2656671.8</td>\n",
       "    </tr>\n",
       "    <tr>\n",
       "      <th>3</th>\n",
       "      <td>India</td>\n",
       "      <td>2074344.9</td>\n",
       "    </tr>\n",
       "    <tr>\n",
       "      <th>4</th>\n",
       "      <td>Russian Federation</td>\n",
       "      <td>1808073.0</td>\n",
       "    </tr>\n",
       "  </tbody>\n",
       "</table>\n",
       "</div>"
      ],
      "text/plain": [
       "                        Country  co2_emissions\n",
       "0                         China      9019518.2\n",
       "1                 United States      5305569.6\n",
       "2  United States Virgin Islands      2656671.8\n",
       "3                         India      2074344.9\n",
       "4            Russian Federation      1808073.0"
      ]
     },
     "execution_count": 19,
     "metadata": {},
     "output_type": "execute_result"
    }
   ],
   "source": [
    "countries_co2_emissions_2011_df = mdg_df[mdg_df[\"Series\"] == 'Carbon dioxide emissions (CO2), thousand metric tons of CO2 (CDIAC)']\n",
    "top_countries_co2_emissions_2011_df = countries_co2_emissions_2011_df.sort_values(by=\"2011\", ascending=False)\n",
    "top_countries_co2_emissions_2011_df = top_countries_co2_emissions_2011_df.head(5)[['Country', '2011']].rename(columns={'2011': 'co2_emissions'})\n",
    "top_countries_co2_emissions_2011_df.reset_index(drop=True, inplace=True)\n",
    "top_countries_co2_emissions_2011_df.head()"
   ]
  },
  {
   "cell_type": "code",
   "execution_count": 20,
   "id": "995b15e5-2c27-4186-ba3f-f2035a24c001",
   "metadata": {},
   "outputs": [
    {
     "data": {
      "text/html": [
       "<div>\n",
       "<style scoped>\n",
       "    .dataframe tbody tr th:only-of-type {\n",
       "        vertical-align: middle;\n",
       "    }\n",
       "\n",
       "    .dataframe tbody tr th {\n",
       "        vertical-align: top;\n",
       "    }\n",
       "\n",
       "    .dataframe thead th {\n",
       "        text-align: right;\n",
       "    }\n",
       "</style>\n",
       "<table border=\"1\" class=\"dataframe\">\n",
       "  <thead>\n",
       "    <tr style=\"text-align: right;\">\n",
       "      <th></th>\n",
       "      <th>Country</th>\n",
       "      <th>co2_emissions</th>\n",
       "    </tr>\n",
       "  </thead>\n",
       "  <tbody>\n",
       "    <tr>\n",
       "      <th>0</th>\n",
       "      <td>Niue</td>\n",
       "      <td>11.0</td>\n",
       "    </tr>\n",
       "    <tr>\n",
       "      <th>1</th>\n",
       "      <td>Saint Helena</td>\n",
       "      <td>11.0</td>\n",
       "    </tr>\n",
       "    <tr>\n",
       "      <th>2</th>\n",
       "      <td>Wallis and Futuna Islands</td>\n",
       "      <td>25.7</td>\n",
       "    </tr>\n",
       "    <tr>\n",
       "      <th>3</th>\n",
       "      <td>Liechtenstein</td>\n",
       "      <td>51.3</td>\n",
       "    </tr>\n",
       "    <tr>\n",
       "      <th>4</th>\n",
       "      <td>Nauru</td>\n",
       "      <td>51.3</td>\n",
       "    </tr>\n",
       "  </tbody>\n",
       "</table>\n",
       "</div>"
      ],
      "text/plain": [
       "                     Country  co2_emissions\n",
       "0                       Niue           11.0\n",
       "1               Saint Helena           11.0\n",
       "2  Wallis and Futuna Islands           25.7\n",
       "3              Liechtenstein           51.3\n",
       "4                      Nauru           51.3"
      ]
     },
     "execution_count": 20,
     "metadata": {},
     "output_type": "execute_result"
    }
   ],
   "source": [
    "bottom_countries_co2_emmissions_2011_df = countries_co2_emissions_2011_df.sort_values(by=\"2011\", ascending=True)\n",
    "bottom_countries_co2_emmissions_2011_df = bottom_countries_co2_emmissions_2011_df.head(5)[['Country', '2011']].rename(columns={'2011': 'co2_emissions'})\n",
    "bottom_countries_co2_emmissions_2011_df.reset_index(drop=True, inplace=True)\n",
    "bottom_countries_co2_emmissions_2011_df.head()"
   ]
  },
  {
   "cell_type": "markdown",
   "id": "f9ca4b7d-0ca2-453e-8f54-a4ce0cb978c4",
   "metadata": {},
   "source": [
    "The CO2 emissions in 2011 are higher than the ones in 1990. It shows that the CO2 emissions have grown immensely over the years. Some countries reappeared in 2011 from 1990 as having the highest or lowest CO2 emissions. The countries that remained in the top 5 countries with the highest CO2 emissions are China, the United States, India, and the United States Virgin Islands. But instead of Japan in 1990, a new country emerged at the top list which is the Russian Federation.</br> \n",
    "The countries that remained in the bottom 5 countries with the lowest CO2 emissions in 2011 from 1990 are Niue and Saint Helena. The new countries that were now in the bottom 5 were the Wallis and Futuna Islands, Liechtenstein, and Nauru."
   ]
  },
  {
   "cell_type": "markdown",
   "id": "7304cfd2-3a08-4f8f-bae3-7732c8a94639",
   "metadata": {},
   "source": [
    "&nbsp;"
   ]
  },
  {
   "cell_type": "code",
   "execution_count": 21,
   "id": "aab7cf0d-3507-483c-957a-22be27a0da51",
   "metadata": {},
   "outputs": [
    {
     "name": "stdout",
     "output_type": "stream",
     "text": [
      "mean ofco2 emmissions in 1990 is 89868.47\n",
      "median ofco2 emmissions in 1990 is 4818.425\n"
     ]
    }
   ],
   "source": [
    "mean_co2_emmisions_1990 =countries_co2_emissions_1990_df[\"1990\"].mean()\n",
    "median_co2_emmisions_1990 = countries_co2_emissions_1990_df[\"1990\"].median()\n",
    "print(\"mean ofco2 emmissions in 1990 is\", round(mean_co2_emmisions_1990,2))\n",
    "print(\"median ofco2 emmissions in 1990 is\", median_co2_emmisions_1990)"
   ]
  },
  {
   "cell_type": "markdown",
   "id": "2106b094-d821-4576-ba27-3f4aa849f228",
   "metadata": {},
   "source": [
    "These values differ because there is a skewed distribution in the dataset, meaning more data values lie on one side of the median whether the left or right side. Since the median is less than the mean, it means the data is skewed to the right. This happens because most countries have lower CO2 emissions and only a few countries have extremely high CO2 emissions, hence causing the value of the mean to be high."
   ]
  },
  {
   "cell_type": "markdown",
   "id": "684a82ee-0d86-4b65-b673-e2f94b507787",
   "metadata": {},
   "source": [
    "&nbsp;"
   ]
  },
  {
   "cell_type": "code",
   "execution_count": 22,
   "id": "b9b1dcfb-23c1-414a-8992-85204624b061",
   "metadata": {},
   "outputs": [
    {
     "name": "stdout",
     "output_type": "stream",
     "text": [
      "minimumm co2 emmissions is 3.7\n",
      "maximumm co2 emmissions is 4823557.1\n",
      "IQR of co2 emmissions is 41691.93\n"
     ]
    }
   ],
   "source": [
    "minimum_co2_emmisions_1990 = countries_co2_emissions_1990_df[\"1990\"].min()\n",
    "maximum_co2_emmisions_1990 = countries_co2_emissions_1990_df[\"1990\"].max()\n",
    "print(\"minimumm co2 emmissions is\", minimum_co2_emmisions_1990)\n",
    "print(\"maximumm co2 emmissions is\", maximum_co2_emmisions_1990)\n",
    "Q1 = countries_co2_emissions_1990_df[\"1990\"].quantile(0.25)\n",
    "Q3 = countries_co2_emissions_1990_df[\"1990\"].quantile(0.75)\n",
    "iqr_co2_emissions_1990 = Q3 - Q1\n",
    "print(\"IQR of co2 emmissions is\", round(iqr_co2_emissions_1990,2))"
   ]
  },
  {
   "cell_type": "markdown",
   "id": "4cf6cadd-7135-47b2-8aa2-a4bf49988caa",
   "metadata": {},
   "source": [
    "It seems like the distribution of the CO2 emissions is skewed to the right. This is because, considering the median and mean to be very small values relative to the maximum value, it means, most values lie in the lower spectrum of CO2 emissions. However, the maximum values might form part of the extreme values in the dataset which increases the value of the mean. Also, the IQR which is 50 percent of the middle values in the dataset indicates the fact that the distribution is right-skewed (most countries have lower CO2 emissions) since the value is relatively lower compared to the maximum value."
   ]
  },
  {
   "cell_type": "markdown",
   "id": "92a7d6e1-14f5-4975-95cc-934f2b5fc7f4",
   "metadata": {},
   "source": [
    "&nbsp;"
   ]
  },
  {
   "cell_type": "code",
   "execution_count": 23,
   "id": "7e3ee3f3-ea8f-4e83-b331-6feed1652dbc",
   "metadata": {},
   "outputs": [
    {
     "data": {
      "image/png": "[encoded data removed]",
      "text/plain": [
       "<Figure size 640x480 with 1 Axes>"
      ]
     },
     "metadata": {},
     "output_type": "display_data"
    }
   ],
   "source": [
    "sn.histplot(data=countries_co2_emissions_1990_df['1990'], bins=40)\n",
    "plt.xlim(0, 1e6)\n",
    "\n",
    "plt.xlabel(\"CO2 emissions\", weight=\"bold\")\n",
    "plt.ylabel(\"Frequency\", weight=\"bold\")\n",
    "plt.title(\"CO2 Emissions Distribution in 1990\", weight=\"bold\")\n",
    "plt.show()"
   ]
  },
  {
   "cell_type": "markdown",
   "id": "aeaaf879-f879-47e9-a75d-21c4c89c401c",
   "metadata": {},
   "source": [
    "The distribution as seen in the histogram is as expected based on the previous two questions. The distribution is right skewed and most data values lie in the lower spectrum of CO2 emissions. Few values take extremely high values than the rest of the data values."
   ]
  },
  {
   "cell_type": "markdown",
   "id": "fbd4dbf3-2d87-47e4-aa3e-64fa25440b9f",
   "metadata": {},
   "source": [
    "&nbsp;"
   ]
  },
  {
   "cell_type": "code",
   "execution_count": 24,
   "id": "1f410ecd-abcf-4606-8c16-0000d680404c",
   "metadata": {},
   "outputs": [
    {
     "name": "stdout",
     "output_type": "stream",
     "text": [
      "The standard deviation of co2 emmissions in 1990 is 401628.09\n",
      "The standard error of co2 emmissions in 1990 is 26482.57\n"
     ]
    }
   ],
   "source": [
    "std_co2_emmisions_1990 = countries_co2_emissions_1990_df[\"1990\"].std()\n",
    "print(\"The standard deviation of co2 emmissions in 1990 is\", round(std_co2_emmisions_1990,2))\n",
    "stderr_co2_emmisions_1990 = std_co2_emmisions_1990/np.sqrt(len(countries_co2_emissions_1990_df))\n",
    "print(\"The standard error of co2 emmissions in 1990 is\", round(stderr_co2_emmisions_1990,2))"
   ]
  },
  {
   "cell_type": "markdown",
   "id": "1dcea4e0-fc92-46a0-9c60-22c53a358ffc",
   "metadata": {},
   "source": [
    "The standard error is smaller in value than the standard deviation. Since the standard error value is very small, it shows that the mean of this dataset sample is closer to the population mean for CO2 emissions."
   ]
  },
  {
   "cell_type": "markdown",
   "id": "3fb930b9-aba8-4f99-82c2-b8f9b264b080",
   "metadata": {},
   "source": [
    "&nbsp;"
   ]
  },
  {
   "cell_type": "code",
   "execution_count": 25,
   "id": "6fa926f9-ecf2-4a1f-be4b-75d3a8f8a731",
   "metadata": {},
   "outputs": [
    {
     "data": {
      "image/png": "[encoded data removed]",
      "text/plain": [
       "<Figure size 1000x1000 with 1 Axes>"
      ]
     },
     "metadata": {},
     "output_type": "display_data"
    }
   ],
   "source": [
    "selected_countries = [\"Brazil\", \"Russian Federation\", \"China\", \"India\", \"United States\", \"South Africa\"]\n",
    "year_columns = [column for column in statistical_df_cleaned.columns if column.isdigit()]\n",
    "\n",
    "Countries_co2_emissions_df = pd.melt(statistical_df_cleaned, id_vars=['Country', 'Series'], value_vars=year_columns, var_name='Year', value_name='Value')\n",
    "\n",
    "Countries_co2_emissions_df['Year'] = pd.to_numeric(Countries_co2_emissions_df['Year'], errors='coerce')\n",
    "Countries_co2_emissions_df['Value'] = pd.to_numeric(Countries_co2_emissions_df['Value'], errors='coerce')\n",
    "\n",
    "Countries_co2_emissions_df = Countries_co2_emissions_df[Countries_co2_emissions_df[\"Country\"].isin(selected_countries)]\n",
    "Countries_co2_emissions_df = Countries_co2_emissions_df[Countries_co2_emissions_df[\"Series\"] == \"Carbon dioxide emissions (CO2), thousand metric tons of CO2 (CDIAC)\"]\n",
    "\n",
    "Countries_co2_emissions_df['Value'] = Countries_co2_emissions_df.groupby('Year')['Value'].transform(lambda x: x.fillna(x.mean()))\n",
    "\n",
    "plt.figure(figsize=(10, 10)) \n",
    "\n",
    "sn.lineplot(x=Countries_co2_emissions_df[\"Year\"], y=Countries_co2_emissions_df[\"Value\"], hue=\"Country\", data=Countries_co2_emissions_df, linewidth=2.5)\n",
    "plt.xticks(rotation=45)\n",
    "\n",
    "plt.title(\"CO2 emmissions for certain countries over time\", weight=\"bold\")\n",
    "plt.xlabel(\"Year\", weight=\"bold\")\n",
    "plt.ylabel(\"CO2 emmissions (thousand metric tons)\", weight=\"bold\")\n",
    "\n",
    "legend = plt.legend(title='Country')\n",
    "legend.get_title().set_fontweight('bold')\n",
    "\n",
    "plt.ylim(bottom=0)\n",
    "plt.show()"
   ]
  },
  {
   "cell_type": "markdown",
   "id": "3e73dc4b-8cc3-4e69-9207-4ab5f066b5dd",
   "metadata": {},
   "source": [
    "The CO2 emissions in China grew exponentially over time, and it has the highest growth than other countries. United States started with the highest CO2 emissions in 1990 than the other countries and the growth rate of these emissions over time grew gradually and was surpassed by China. But it seems to be one of the countries with the highest CO2 emissions. South Africa and Brazil are the countries with the lowest CO2 emissions and their growth almost remained constant over the years. Russian Federation and India had a gradual increase in CO2 emissions over time."
   ]
  },
  {
   "cell_type": "markdown",
   "id": "ab434b6d-ae5e-42d3-975d-ff5555fa0ad7",
   "metadata": {},
   "source": [
    "&nbsp;"
   ]
  },
  {
   "cell_type": "code",
   "execution_count": 26,
   "id": "55c81f90-f149-4231-838c-4c10cc5e2d36",
   "metadata": {},
   "outputs": [
    {
     "name": "stdout",
     "output_type": "stream",
     "text": [
      "33.06\n",
      "25.24\n"
     ]
    }
   ],
   "source": [
    "proportion_covered_by_forest_df = mdg_df[mdg_df[\"Series\"] == 'Proportion of land area covered by forest, percentage']\n",
    "mean_land_area_covered_forest_1990 = proportion_covered_by_forest_df[\"1990\"].mean()\n",
    "std_land_area_covered_forest_1990 = proportion_covered_by_forest_df[\"1990\"].std()\n",
    "print(round(mean_land_area_covered_forest_1990,2))\n",
    "print(round(std_land_area_covered_forest_1990,2))"
   ]
  },
  {
   "cell_type": "markdown",
   "id": "08f78212-533d-4f79-95bb-647be83b068b",
   "metadata": {},
   "source": [
    "The standard deviation is high because the percentages of the land covered by forest are very different from the average percentages. Meaning, that the values for the percentage of land covered by forest are dispersed."
   ]
  },
  {
   "cell_type": "markdown",
   "id": "4d5a8b93-fc37-481e-91be-c3d618b27981",
   "metadata": {},
   "source": [
    "&nbsp;"
   ]
  },
  {
   "cell_type": "code",
   "execution_count": 27,
   "id": "53d80d4c-595d-42ee-9dc3-4881f1ca0eb6",
   "metadata": {},
   "outputs": [
    {
     "data": {
      "image/png": "[encoded data removed]",
      "text/plain": [
       "<Figure size 640x480 with 1 Axes>"
      ]
     },
     "metadata": {},
     "output_type": "display_data"
    }
   ],
   "source": [
    "sn.histplot(data=proportion_covered_by_forest_df['1990'], bins=40)\n",
    "plt.title(\"land area covered by forest in 1990\", weight=\"bold\")\n",
    "plt.xlabel(\"Proportion of land covered by forest\", weight=\"bold\")\n",
    "plt.ylabel(\"Frequency\", weight=\"bold\")\n",
    "plt.show()"
   ]
  },
  {
   "cell_type": "markdown",
   "id": "744b2e09-017a-4895-ab68-5d08ed992d6c",
   "metadata": {},
   "source": [
    "The distribution of the proportion of land covered by forest is right skewed because the proportions gravitate towards the lower values. The largest proportion falls between 0 and 20 percent of land covered by forest. It means most land was less covered by forest in 1990."
   ]
  },
  {
   "cell_type": "markdown",
   "id": "673203df-5ac9-4692-8de9-546cabd40e8a",
   "metadata": {},
   "source": [
    "&nbsp;"
   ]
  },
  {
   "cell_type": "code",
   "execution_count": 28,
   "id": "158ee9b2-14b0-4db2-9b67-b0e4bd7dab42",
   "metadata": {},
   "outputs": [
    {
     "data": {
      "image/png": "[encoded data removed]",
      "text/plain": [
       "<Figure size 640x480 with 1 Axes>"
      ]
     },
     "metadata": {},
     "output_type": "display_data"
    }
   ],
   "source": [
    "percentage_area_protected_df = mdg_df[mdg_df[\"Series\"] == 'Terrestrial and marine areas protected to total territorial area, percentage']\n",
    "sn.histplot(data=percentage_area_protected_df['1990'], bins=40)\n",
    "plt.title(\"Percentage of area protected in 1990\", weight=\"bold\")\n",
    "plt.xlabel(\"Percentage of area protected\", weight=\"bold\")\n",
    "plt.ylabel(\"Frequency\", weight=\"bold\")\n",
    "plt.show()"
   ]
  },
  {
   "cell_type": "markdown",
   "id": "f0d74858-d9f3-43f1-ae99-67aaf7ea8e6b",
   "metadata": {},
   "source": [
    "The distribution of the percentage of area protected is also skewed to the right. This is because the percentage values gravitate towards the lowest values. The highest category is the percentage of area protected between 0 and 10. This means most areas were less protected in 1990."
   ]
  },
  {
   "cell_type": "markdown",
   "id": "2bf7d4da-d984-47e1-bc92-44ca333d6546",
   "metadata": {},
   "source": [
    "&nbsp;"
   ]
  },
  {
   "cell_type": "markdown",
   "id": "57f4206e-29e6-4c71-9afa-5f6845b64409",
   "metadata": {},
   "source": [
    "Scatter plot showing the relationship between the proportion of land area covered by forest and the percentage of area protected in 2000."
   ]
  },
  {
   "cell_type": "code",
   "execution_count": 29,
   "id": "aa991bc1-cb31-4877-8e01-af793865aab0",
   "metadata": {},
   "outputs": [
    {
     "data": {
      "image/png": "[encoded data removed]",
      "text/plain": [
       "<Figure size 640x480 with 1 Axes>"
      ]
     },
     "metadata": {},
     "output_type": "display_data"
    }
   ],
   "source": [
    "mdg_df[\"2000\"] = pd.to_numeric(mdg_df[\"2000\"], errors=\"coerce\")\n",
    "x = mdg_df[\"2000\"].loc[mdg_df[\"Series\"] == \"Proportion of land area covered by forest, percentage\"]\n",
    "y = mdg_df[\"2000\"].loc[mdg_df[\"Series\"] == \"Terrestrial and marine areas protected to total territorial area, percentage\"]\n",
    "\n",
    "plt.scatter(x, y)\n",
    "sn.regplot(x=x, y=y, data=mdg_df)\n",
    "\n",
    "plt.title(\"Land covered by forest versus the area protected in 2000\", weight=\"bold\")\n",
    "plt.xlabel(\"Proportion of land covered by forest\", weight=\"bold\")\n",
    "plt.ylabel(\"Percentage of area protected\", weight=\"bold\")\n",
    "plt.show()"
   ]
  },
  {
   "cell_type": "markdown",
   "id": "a8ea874c-f73f-432b-9939-45b0f952fdca",
   "metadata": {},
   "source": [
    "There seems to be no relationship between the proportion of land area covered by forest and the percentage of area protected in 2000. The data points are scattered all over the plot with no traceable trend. It is also very difficult to trace the extreme values because there is no noticeable trend in the plot."
   ]
  },
  {
   "cell_type": "markdown",
   "id": "04d7f7d2-7239-4952-8290-278eb4902ade",
   "metadata": {},
   "source": [
    "&nbsp;"
   ]
  },
  {
   "cell_type": "markdown",
   "id": "baadb829-6064-45b6-b834-16913009d82f",
   "metadata": {},
   "source": [
    "Log transforming the forest land area and protected area variables. Since the x and y values have zeros, before log transforming, a small constant which is 1 in this case has been added to these values. This is to ensure that there are no computational issues since a logarithmic of zero is undefined."
   ]
  },
  {
   "cell_type": "code",
   "execution_count": 30,
   "id": "d151ae63-a05d-4b10-903f-22fb42fe32c4",
   "metadata": {},
   "outputs": [],
   "source": [
    "x = x + 1\n",
    "y = y + 1\n",
    "\n",
    "mdg_df[\"log_transformed_forested_land_area_value_2000\"] = np.log(x)\n",
    "mdg_df[\"log_transformed_protected_area_value_2000\"] = np.log(y)\n",
    "\n",
    "log_transformed_land_area_covered_2000_df = mdg_df[['Country', 'log_transformed_forested_land_area_value_2000']].copy()\n",
    "log_transformed_protected_area_2000_df = mdg_df[['Country', 'log_transformed_protected_area_value_2000']].copy()"
   ]
  },
  {
   "cell_type": "markdown",
   "id": "f10e01d7-dc86-4b02-a324-b3de35d665dd",
   "metadata": {},
   "source": [
    "Showing the transformed distributions in histograms."
   ]
  },
  {
   "cell_type": "code",
   "execution_count": 31,
   "id": "bdafbee4-05db-4890-8c7d-373b37104d5f",
   "metadata": {},
   "outputs": [
    {
     "data": {
      "image/png": "[encoded data removed]",
      "text/plain": [
       "<Figure size 640x480 with 1 Axes>"
      ]
     },
     "metadata": {},
     "output_type": "display_data"
    }
   ],
   "source": [
    "plt.hist(log_transformed_land_area_covered_2000_df[\"log_transformed_forested_land_area_value_2000\"],edgecolor='black', bins=40)\n",
    "plt.title(\"Transformed Distribution for Land Area Covered by Forest in 2000\", weight=\"bold\")\n",
    "plt.xlabel(\"Land Area Covered by Forest\", weight=\"bold\")\n",
    "plt.ylabel(\"Frequency\", weight=\"bold\")\n",
    "plt.show()\n"
   ]
  },
  {
   "cell_type": "code",
   "execution_count": 32,
   "id": "f3d8691a-62fc-4677-a6b3-9ea55c21f4d7",
   "metadata": {},
   "outputs": [
    {
     "data": {
      "image/png": "[encoded data removed]",
      "text/plain": [
       "<Figure size 640x480 with 1 Axes>"
      ]
     },
     "metadata": {},
     "output_type": "display_data"
    }
   ],
   "source": [
    "plt.hist(log_transformed_protected_area_2000_df[\"log_transformed_protected_area_value_2000\"],edgecolor='black', bins=40)\n",
    "plt.title(\"Transformed Distribution for Protected Area in 2000\", weight=\"bold\")\n",
    "plt.xlabel(\"Percentage of Area Protected\", weight=\"bold\")\n",
    "plt.ylabel(\"Frequency\", weight=\"bold\")\n",
    "plt.show()"
   ]
  },
  {
   "cell_type": "markdown",
   "id": "9820000e-6484-4318-8122-349cbd5a1711",
   "metadata": {},
   "source": [
    "The histograms after log transforming the variables show a reduction in the skewness of the data. The data follows more of a normal distribution although it is not a perfect one."
   ]
  },
  {
   "cell_type": "markdown",
   "id": "d35f92bd-4425-419c-bf68-3b33bcef62d3",
   "metadata": {},
   "source": [
    "&nbsp;"
   ]
  },
  {
   "cell_type": "markdown",
   "id": "7ee60205-a035-4da3-a184-3818c820817e",
   "metadata": {},
   "source": [
    "Determining the nature of the relationship between the proportion of land area covered by forest and the percentage of area protected in 1990."
   ]
  },
  {
   "cell_type": "markdown",
   "id": "7b548207-22b0-4b60-bca5-0697b8135d7a",
   "metadata": {},
   "source": [
    "**Null Hypothesis**\n",
    "There is no linear relationship between the proportion of land area covered by forest and the percentage of area protected.\n",
    "\n",
    "**Alternative Hypothesis**\n",
    "There is a linear relationship between the proportion of land area covered by forest and the percentage of area protected.\n"
   ]
  },
  {
   "cell_type": "markdown",
   "id": "22bc672c-e52e-4cdf-b5a4-4b6fb218cf2f",
   "metadata": {},
   "source": [
    "The variables of land area covered by forest and the area protected in 1990 will be first log-transformed to calculate the correlation coefficients and determine the relationship between these variables."
   ]
  },
  {
   "cell_type": "code",
   "execution_count": 33,
   "id": "550f54ba-6076-4d6a-bce7-b7ca71320cf3",
   "metadata": {},
   "outputs": [],
   "source": [
    "mdg_df[\"1990\"] = pd.to_numeric(mdg_df[\"1990\"], errors=\"coerce\")\n",
    "x = mdg_df[\"1990\"].loc[mdg_df[\"Series\"] == \"Proportion of land area covered by forest, percentage\"]\n",
    "y = mdg_df[\"1990\"].loc[mdg_df[\"Series\"] == \"Terrestrial and marine areas protected to total territorial area, percentage\"]\n",
    "\n",
    "x = x + 1\n",
    "y = y + 1\n",
    "\n",
    "mdg_df[\"log_transformed_forested_land_area_value_1990\"] = np.log(x)\n",
    "mdg_df[\"log_transformed_protected_area_value_1990\"] = np.log(y)\n",
    "\n",
    "log_transformed_land_area_covered_1990_df = mdg_df[['Country', 'log_transformed_forested_land_area_value_1990']].copy()\n",
    "log_transformed_protected_area_1990_df = mdg_df[['Country', 'log_transformed_protected_area_value_1990']].copy()\n"
   ]
  },
  {
   "cell_type": "code",
   "execution_count": 34,
   "id": "71d3d6b6-1944-401d-ad8c-500a321b9353",
   "metadata": {},
   "outputs": [
    {
     "name": "stdout",
     "output_type": "stream",
     "text": [
      "Pearson Correlation Coefficient (1990): 0.1768\n",
      "Pearson p-value (1990): 0.0072\n"
     ]
    }
   ],
   "source": [
    "pearson_correlation_coefficient_1990, pearson_p_value_1990 = pearsonr(log_transformed_land_area_covered_1990_df[\"log_transformed_forested_land_area_value_1990\"].dropna(), log_transformed_protected_area_1990_df[\"log_transformed_protected_area_value_1990\"].dropna())\n",
    "print(f\"Pearson Correlation Coefficient (1990): {round(pearson_correlation_coefficient_1990,4)}\")\n",
    "print(f\"Pearson p-value (1990): {pearson_p_value_1990:.4f}\")"
   ]
  },
  {
   "cell_type": "markdown",
   "id": "ffc21aa6-a591-4335-802e-42b5153004ed",
   "metadata": {},
   "source": [
    "Since the pearson correlation coefficient is close to 0 and positive, there is a moderate positive linear relationship between the proportion of land area covered by forest and the percentage of area protected. As the pearson p-value is less than the significance value of 0.05, the null hypothesis is rejected. This means that there is a statistically significant linear relationship."
   ]
  },
  {
   "cell_type": "markdown",
   "id": "db09c48f-f11e-4933-be04-af85e1bf7e37",
   "metadata": {},
   "source": [
    "&nbsp;"
   ]
  },
  {
   "cell_type": "code",
   "execution_count": 35,
   "id": "bf32d5e8-4de1-48ed-afb8-131d1886c885",
   "metadata": {},
   "outputs": [
    {
     "name": "stdout",
     "output_type": "stream",
     "text": [
      "Spearman Rank-Order Correlation Coefficient (1990): 0.0809\n",
      "Spearman p-value (1990): 0.2217\n"
     ]
    }
   ],
   "source": [
    "spearman_correlation_coefficient_1990, spearman_p_value_1990 = spearmanr(log_transformed_land_area_covered_1990_df[\"log_transformed_forested_land_area_value_1990\"].dropna(), log_transformed_protected_area_1990_df[\"log_transformed_protected_area_value_1990\"].dropna())\n",
    "\n",
    "print(f\"Spearman Rank-Order Correlation Coefficient (1990): {round(spearman_correlation_coefficient_1990,4)}\")\n",
    "print(f\"Spearman p-value (1990): {spearman_p_value_1990:.4f}\")"
   ]
  },
  {
   "cell_type": "markdown",
   "id": "cb71494a-1b1e-4a74-a5d8-9d6662675615",
   "metadata": {},
   "source": [
    "Both the coefficient values are similar in magnitude and direction, and the Spearman p-value is greater than the pearson p-value. Since the spearman p value is more than the significance value of 0.05, we fail to reject the null hypothesis. There is no significant evidence to suggest that there is an association between the two variables, land area covered by forest and protected area. Although the pearson p value suggests otherwise, the strength of a liner relationship is very weak according to the pearson correlation."
   ]
  },
  {
   "cell_type": "markdown",
   "id": "b58e2db9-8318-489f-b281-cbed9c14a19e",
   "metadata": {},
   "source": [
    "&nbsp;"
   ]
  },
  {
   "cell_type": "markdown",
   "id": "3d72d20b-40ea-4341-9d1a-5c32e5731876",
   "metadata": {},
   "source": [
    "# Conclusion"
   ]
  },
  {
   "cell_type": "markdown",
   "id": "127efe92-4446-46a5-98a1-ce32d319da05",
   "metadata": {},
   "source": [
    "This project focused on analysing the measurements from the three key indicators to improve living conditions over time which were CO2 emissions, the percentage of land area covered by forest and the percentage of area protected. These measurements were recorded for each country. In this analysis several insights emerged, however, the data-cleaning process was fundamental to come up with accurate results. There were several missing values which were filled using predictive fills since this was time series data. Some columns which were not to be used were removed.\n",
    "\n",
    "After cleaning the data, the analysis focused on CO2 emissions in 1990. The countries that were ranked the highest in terms of CO2 emissions were China and the United States. Some countries that were selected and focused on had gradual increases in CO2 emissions over time. Then the analysis looked at the association between the other two factors which were the percentage of area protected and land area covered by forest. A scatter plot showed that there was no correlation between the two variables since the points were scattered all over the graph.\n",
    "\n",
    "Since the relationship between the percentage of area protected and land area covered by forest was non-linear, these variables were log-transformed to make them follow a more linear relationship so that the correlation coefficient can be calculated and eventually be able to model this relationship.\n"
   ]
  }
 ],
 "metadata": {
  "kernelspec": {
   "display_name": "Python 3 (ipykernel)",
   "language": "python",
   "name": "python3"
  },
  "language_info": {
   "codemirror_mode": {
    "name": "ipython",
    "version": 3
   },
   "file_extension": ".py",
   "mimetype": "text/x-python",
   "name": "python",
   "nbconvert_exporter": "python",
   "pygments_lexer": "ipython3",
   "version": "3.10.11"
  }
 },
 "nbformat": 4,
 "nbformat_minor": 5
}
